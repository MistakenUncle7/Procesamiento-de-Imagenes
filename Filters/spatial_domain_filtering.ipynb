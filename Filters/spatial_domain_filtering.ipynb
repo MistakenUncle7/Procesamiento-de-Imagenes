{
 "cells": [
  {
   "cell_type": "markdown",
   "metadata": {},
   "source": [
    "# **Spatial Domain Filtering**\n",
    "---\n",
    "- With spatial domain filtering we work in the image's spectrum, not in the image by itself.\n",
    "- Filtering refers to passing, modifying, or rejecting specific frequency components of an image.\n",
    "- For Spatial Domain Filtering we rely on two mathematical operations.\n",
    "  - Correlation\n",
    "  - Convolution\n",
    "\n",
    "### **Correlation**\n",
    "<img src=\"..\\src\\imgs\\correlation.PNG\" alt=\"Correlation Image\" width=\"600\" />\n",
    "\n",
    "### **Convolution**\n",
    "<img src=\"..\\src\\imgs\\convolution.PNG\" alt=\"Convulution Image\" width=\"600\" />\n",
    "\n",
    "#### **Procedure to calculate Correlation and Convolution**\n",
    "<img src=\"..\\src\\imgs\\procedure_corr_conv.PNG\" alt=\"Procedure to Calculate\" width=\"600\" />"
   ]
  },
  {
   "cell_type": "code",
   "execution_count": null,
   "metadata": {},
   "outputs": [],
   "source": []
  }
 ],
 "metadata": {
  "language_info": {
   "name": "python"
  }
 },
 "nbformat": 4,
 "nbformat_minor": 2
}
